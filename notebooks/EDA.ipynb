import pandas as pd
import seaborn as sns
import matplotlib.pyplot as plt

df = pd.read_csv("../data/biometric_data.csv")
sns.pairplot(df, hue="LoadLevel")
plt.show()
